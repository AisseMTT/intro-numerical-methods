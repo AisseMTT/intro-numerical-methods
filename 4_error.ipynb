{
 "cells": [
  {
   "cell_type": "code",
   "execution_count": 28,
   "metadata": {
    "collapsed": true,
    "slideshow": {
     "slide_type": "skip"
    }
   },
   "outputs": [],
   "source": [
    "%matplotlib inline\n",
    "import numpy\n",
    "import matplotlib.pyplot as plt"
   ]
  },
  {
   "cell_type": "markdown",
   "metadata": {},
   "source": [
    "# Sources of Error\n",
    "\n",
    "Error can come from many sources when using applying a numerical method:\n",
    " - Model/Data Error\n",
    " - Truncation Error\n",
    " - Floating Point Error\n",
    " \n",
    "**Goal:** Categorize and understand each type of error and explore some simple approaches to analyzing error."
   ]
  },
  {
   "cell_type": "markdown",
   "metadata": {},
   "source": [
    "## Model and Data Error\n",
    "\n",
    "Errors in fundamental formulation\n",
    " - Lotka-Volterra - fractional rabbits, no extinctions, etc.\n",
    " - Data Error - Inaccuracy in measurement or uncertainties in parameters\n",
    " \n",
    "Unfortunatley we cannot control model and data error directly but we can use methods that may be more robust in the presense of these types of errors."
   ]
  },
  {
   "cell_type": "markdown",
   "metadata": {},
   "source": [
    "## Truncation Error\n",
    "\n",
    "Errors arising from approximating a function with a simpler function (e.g. $sin(x) \\approx x$ for $|x| \\approx 0$. "
   ]
  },
  {
   "cell_type": "markdown",
   "metadata": {},
   "source": [
    "## Floating Point Error\n",
    "\n",
    "Errors arising from approximating real numbers with finite-precision numbers and arithmetic."
   ]
  },
  {
   "cell_type": "markdown",
   "metadata": {},
   "source": [
    "## Basic Definitions\n",
    "\n",
    "Given a true value of a function $f$ and an approximate solution $\\hat{f}$ define:\n",
    "\n",
    "Absolute Error:  $e = |f - \\hat{f}|$\n",
    "\n",
    "Relative Error:  $r = \\frac{e}{|f|} = \\frac{|f - \\hat{f}|}{|f|}$\n",
    "\n",
    "Decimal precision p (number of significant digits): $\\text{round}(10^{-n} \\cdot x) \\cdot 10^n$\n",
    "\n",
    "with $n = \\text{floor}(\\log_{10} x) + 1 - p$."
   ]
  },
  {
   "cell_type": "code",
   "execution_count": 10,
   "metadata": {
    "collapsed": false
   },
   "outputs": [
    {
     "name": "stdout",
     "output_type": "stream",
     "text": [
      "Absolute Error =  0.00828182845905\n",
      "Relative Error =  0.00304671442539\n",
      "2.71 = 2.71\n"
     ]
    }
   ],
   "source": [
    "f = numpy.exp(1)\n",
    "f_hat = 2.71\n",
    "\n",
    "# Error\n",
    "print \"Absolute Error = \", numpy.abs(f - f_hat)\n",
    "print \"Relative Error = \", numpy.abs(f - f_hat) / numpy.abs(f)\n",
    "\n",
    "# Precision\n",
    "p = 3\n",
    "n = numpy.floor(numpy.log10(f_hat)) + 1 - p\n",
    "print \"%s = %s\" % (f_hat, numpy.round(10**(-n) * f_hat) * 10**n)"
   ]
  },
  {
   "cell_type": "markdown",
   "metadata": {},
   "source": [
    "## Truncation Error and Taylor's Theorem\n",
    "\n",
    "**Taylor's Theorem:**  Let $f(x) \\in C^{m+1}[a,b]$ and $x_0 \\in [a,b]$, then for all $x \\in (a,b)$ there exists a number $c = c(x)$ that lies between $x_0$ and $x$ such that\n",
    "\n",
    "$$ f(x) = T_N(x) + R_N(x)$$\n",
    "\n",
    "where $T_N(x)$ is the Taylor polynomial approximation\n",
    "\n",
    "$$T_N(x) = \\sum^N_{n=0} \\frac{f^{(n)}(x_0)\\cdot(x-x_0)^n}{n!}$$\n",
    "\n",
    "and $R_N(x)$ is the residual (the part of the series we left off)\n",
    "\n",
    "$$R_N(x) = \\frac{f^{(n+1)}(c) \\cdot (x - x_0)^{n+1}}{(n+1)!}$$"
   ]
  },
  {
   "cell_type": "markdown",
   "metadata": {},
   "source": [
    "#### Example 1\n",
    "\n",
    "$f(x) = e^x$ with $x_0 = 0$\n",
    "\n",
    "Here we will use the package sympy which has the ability to calculate Taylor polynomials built-in!"
   ]
  },
  {
   "cell_type": "code",
   "execution_count": 19,
   "metadata": {
    "collapsed": false
   },
   "outputs": [
    {
     "data": {
      "text/plain": [
       "1 + x + x**2/2 + O(x**3)"
      ]
     },
     "execution_count": 19,
     "metadata": {},
     "output_type": "execute_result"
    }
   ],
   "source": [
    "import sympy\n",
    "x = sympy.symbols('x')\n",
    "f = sympy.symbols('f', cls=Function)\n",
    "\n",
    "f = exp(x)\n",
    "f.series(x0=0, n=3)"
   ]
  },
  {
   "cell_type": "markdown",
   "metadata": {},
   "source": [
    "Using this we can find expressions for the relative and absolute error as a function of $x$ assuming $N=2$.\n",
    "\n",
    "$$T_N(x) = \\sum^N_n=0 \\frac{x^n}{n!} = 1 + x + \\frac{x^2}{2}$$\n",
    "\n",
    "$$R_N(x) = e^c \\frac{x^{n+1}}{(n+1)!} = e^c \\cdot \\frac{x^3}{6}$$\n",
    "\n",
    "$$e^1 = 2.718\\ldots$$\n",
    "\n",
    "$$T_2(1) = 2.5 \\Rightarrow e \\approx 0.2 ~~ r \\approx 0.1$$"
   ]
  },
  {
   "cell_type": "markdown",
   "metadata": {},
   "source": [
    "Lets do this numerically for a section of $x$."
   ]
  },
  {
   "cell_type": "code",
   "execution_count": 33,
   "metadata": {
    "collapsed": false
   },
   "outputs": [
    {
     "data": {
      "image/png": "[encoded data removed]",
      "text/plain": [
       "<matplotlib.figure.Figure at 0x1103f2f50>"
      ]
     },
     "metadata": {},
     "output_type": "display_data"
    }
   ],
   "source": [
    "x = numpy.linspace(-1, 1, 100)\n",
    "T_N = 1.0 + x + x**2 / 2.0\n",
    "R_N = numpy.exp(1) * x**3 / 6.0\n",
    "\n",
    "plt.plot(x, T_N, 'r', x, numpy.exp(x), 'k', x, R_N, 'b')\n",
    "plt.xlabel(\"x\")\n",
    "plt.ylabel(\"$f(x)$, $T_N(x)$, $R_N(x)$\")\n",
    "plt.legend([\"$f(x)$\", \"$T_N(x)$\", \"$R_N(x)$\"], loc=2)\n",
    "plt.show()"
   ]
  },
  {
   "cell_type": "markdown",
   "metadata": {},
   "source": [
    "#### Example 2\n",
    "\n",
    "$f(x) = \\frac{1}{x} ~~ x_0  = 1$, approximate with $\\hat{f}(x) = T_2(x)$"
   ]
  },
  {
   "cell_type": "markdown",
   "metadata": {},
   "source": [
    "### Symbols and Definitions\n",
    "\n",
    "Big-O notation:\n",
    "\n",
    "Rules for error propagation:"
   ]
  }
 ],
 "metadata": {
  "kernelspec": {
   "display_name": "Python 2",
   "language": "python",
   "name": "python2"
  },
  "language_info": {
   "codemirror_mode": {
    "name": "ipython",
    "version": 2
   },
   "file_extension": ".py",
   "mimetype": "text/x-python",
   "name": "python",
   "nbconvert_exporter": "python",
   "pygments_lexer": "ipython2",
   "version": "2.7.3"
  }
 },
 "nbformat": 4,
 "nbformat_minor": 0
}
