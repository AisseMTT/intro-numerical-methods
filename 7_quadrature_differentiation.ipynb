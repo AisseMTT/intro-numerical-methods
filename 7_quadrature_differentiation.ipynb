{
 "cells": [
  {
   "cell_type": "code",
   "execution_count": 1,
   "metadata": {
    "collapsed": true
   },
   "outputs": [],
   "source": [
    "%matplotlib inline\n",
    "import numpy\n",
    "import matplotlib.pyplot as plt"
   ]
  },
  {
   "cell_type": "markdown",
   "metadata": {},
   "source": [
    "# Numerical Differentiation\n",
    "\n",
    "**GOAL:**  Given a set of $N+1$ points $(x_i, y_i)$ compute the derivative of a given order to a specified accuracy.\n",
    "\n",
    "**Approach:** Find the interpolating polynomial $P_N(x)$ and differentiate that."
   ]
  },
  {
   "cell_type": "markdown",
   "metadata": {},
   "source": [
    "### Newton's Form\n",
    "\n",
    "For ease of analysis we will write $P_N(x)$ in Newton's form which looks like\n",
    "\n",
    "$$P_N(x) = \\sum^k_{j=0} a_j n_j(x)$$\n",
    "\n",
    "where \n",
    "\n",
    "$$n_j(x) = \\prod^{j-1}_{i=0} (x - x_i)$$\n",
    "\n",
    "and the $a_j = [y_0, \\ldots, y_j]$ are the divided differences defined in general as\n",
    "\n",
    "$$[y_i] = y_i ~~~~~ i \\in \\{0,\\ldots, N+1\\}$$\n",
    "\n",
    "and\n",
    "\n",
    "$$[y_i, \\ldots , y_{i+j}] = \\frac{[y_{i+1}, \\ldots , y_{i + j}] - [y_{i},\\ldots,y_{i+j-1}]}{x_{i+j} - x_{i}} ~~~~~ i \\in \\{0,\\ldots,N+1 - j\\} ~~~~ j \\in \\{1,\\ldots, N+1\\}$$\n",
    "\n",
    "These formulas are recursively defined but not so helpful, here are a few examples to start out with:\n",
    "\n",
    "$$[y_0] = y_0$$\n",
    "\n",
    "$$[y_0, y_1] = \\frac{y_1 - y_0}{x_1 - x_0}$$\n",
    "\n",
    "$$[y_0, y_1, y_2] = \\frac{[y_1, y_2] - [y_0, y_1]}{x_{2} - x_{0}} = \\frac{\\frac{y_2 - y_1}{x_2 - x_1} - \\frac{y_1 - y_0}{x_1 - x_0}}{x_2 - x_0} = \\frac{y_2 - y_1}{(x_2 - x_1)(x_2 - x_0)} - \\frac{y_1 - y_0}{(x_1 - x_0)(x_2 - x_0)}$$\n",
    "\n",
    "The benefit of writing a polynomial like this is that it isolates the $x$ dependence (we can easily take derivatives of this form).\n",
    "\n",
    "In general then $P_N(x)$ can be written in Newton's form as\n",
    "\n",
    "$$P_N(x) = y_0 + (x-x_0)[y_0, y_1] + (x - x_0) (x - x_1) [y_0, y_1, y_2] + \\cdots + (x-x_0) (x-x_1) \\cdots (x-x_{N-1}) [y_0, y_1, \\ldots, y_{N}]$$\n",
    "\n",
    "As another concrete example consider and quadratic polynomial written in Newton's form\n",
    "\n",
    "$$P_2(x) = [y_0] + (x - x_0) [y_0, y_1] + (x - x_0)(x - x_1) [y_0, y_1, y_2] \\\\= y_0 + (x - x_0) \\frac{y_1 - y_0}{x_1 - x_0} + (x - x_0)(x - x_1) \\left ( \\frac{y_2 - y_1}{(x_2 - x_1)(x_2 - x_0)} - \\frac{y_1 - y_0}{(x_1 - x_0)(x_2 - x_0)} \\right )$$\n",
    "\n",
    "Recall that the interpolating polynomial of degree $N$ through these points is unique!"
   ]
  },
  {
   "cell_type": "markdown",
   "metadata": {},
   "source": [
    "### Error Analysis\n",
    "\n",
    "Given $N + 1$ points we can form an interpolant $P_N(x)$ of degree $N$ where\n",
    "\n",
    "$$f(x) = P_N(x) + R_N(x)$$\n",
    "\n",
    "We know from Lagrange's Theorem that the remainder term looks like\n",
    "\n",
    "$$R_N(x) = (x - x_0)(x - x_1)\\cdots (x - x_{N})(x - x_{N+1}) \\frac{f^(N+1)(c)}{(N+1)!}$$\n",
    "\n",
    "noting that we need to require that $f(x) \\in C^{N+1}$ on the interval of interest.  Taking the derivative of the interpolant $P_N(x)$ then leads to \n",
    "\n",
    "$$P_N'(x) = [y_0, y_1] + ((x - x_1) + (x - x_0)) [y_0, y_1, y_2] + \\cdots + \\left(\\sum^{N-1}_{i=0}\\left( \\prod^{N-1}_{j=0,~j\\neq i} (x - x_j) \\right )\\right ) [y_0, y_1, \\ldots, y_N$$\n",
    "\n",
    "Similarly we can find the derivative of the remainder term $R_N(x)$ as\n",
    "\n",
    "$$R_N'(x) = \\left(\\sum^{N}_{i=0} \\left( \\prod^{N}_{j=0,~j\\neq i} (x - x_j) \\right )\\right ) \\frac{f^{(N+1)}(c)}{(N+1)!}$$\n",
    "\n",
    "Now if we consider the approximation of the derivative evaluated at one of our data points $(x_k, y_k)$ these expressions simplify such that\n",
    "\n",
    "$$f'(x_k) = P_N'(x_k) + R_N'(x_k)$$\n",
    "\n",
    "If we let $\\Delta x = \\max_i |x_k - x_i|$ we then know that the remainder term will be $\\mathcal{O}(\\Delta x^N)$ as $\\Delta x \\rightarrow 0$ thus showing that this approach converges and we can find arbitrarily high order approximations."
   ]
  },
  {
   "cell_type": "markdown",
   "metadata": {},
   "source": [
    "## Examples\n",
    "\n",
    "Often in practice we only use a small number of data points to derive a differentiation formula.  In the context of differential equations we also often have $f(x)$ so that $f(x_k) = y_k$ and we can approximate the derivative of a known function $f(x)$."
   ]
  },
  {
   "cell_type": "markdown",
   "metadata": {},
   "source": [
    "### Example 1:  1st order Forward and Backward Differences\n",
    "\n",
    "Using 2 points we can get an approximation that is $\\mathcal{O}(\\Delta x)$:\n",
    "\n",
    "$$f'(x) \\approx P_1'(x) = [y_0, y_1] = \\frac{y_1 - y_0}{x_1 - x_0} = \\frac{y_1 - y_0}{\\Delta x} = \\frac{f(x_1) - f(x_0)}{\\Delta x}$$\n",
    "\n",
    "We can also calculate the error as\n",
    "\n",
    "$$R_1'(x) = -\\Delta x \\frac{f''(c)}{2}$$\n",
    "\n",
    "We can also derive the \"forward\" and \"backward\" formulas by considering the question slightly differently.  Say we want $f'(x_n)$, then the \"forward\" finite-difference can be written as\n",
    "\n",
    "$$f'(x_n) \\approx D_1^+ = \\frac{f(x_{n+1}) - f(x_n)}{\\Delta x}$$\n",
    "\n",
    "and the \"backward\" finite-difference as\n",
    "\n",
    "$$f'(x_n) \\approx D_1^- = \\frac{f(x_n) - f(x_{n-1})}{\\Delta x}$$\n",
    "\n",
    "Note these approximations should be familiar to use as the limit as $\\Delta x \\rightarrow 0$ these are no longer approximations but equivalent definitions of the derivative at $x_n$."
   ]
  },
  {
   "cell_type": "markdown",
   "metadata": {},
   "source": [
    "### Example 2: 2nd Order Centered Difference\n",
    "\n",
    "Now lets use 3 points to calculate the 2nd order accurate finite-difference.  Consider the points $(x_{n}, y_{n})$, $(x_{n-1}, y_{n-1})$, and $(x_{n+1}, y_{n+1})$, from before we have\n",
    "\n",
    "$$P_2'(x) = [f(x_n), f(x_{n+1})] + ((x - x_n) + (x - x_{n+1})) [f(x_n), f(x_{n+1}), f(x_{n-1})]$$\n",
    "\n",
    "$$= \\frac{f(x_{n+1}) - f(x_n)}{x_{n+1} - x_n} + ((x - x_n) + (x - x_{n+1})) \\left ( \\frac{f(x_{n-1}) - f(x_{n+1})}{(x_{n-1} - x_{n+1})(x_{n-1} - x_n)} - \\frac{f(x_{n+1}) - f(x_n)}{(x_{n+1} - x_n)(x_{n-1} - x_n)} \\right )$$\n",
    "\n",
    "Evaluating at $x_n$ and assuming the points $x_{n-1}, x_n, x_{n+1}$ are evenly spaced leads to\n",
    "\n",
    "$$P_2'(x_n) = \\frac{f(x_{n+1}) - f(x_n)}{\\Delta x} - \\Delta x \\left ( \\frac{f(x_{n-1}) - f(x_{n+1})}{2\\Delta x^2} + \\frac{f(x_{n+1}) - f(x_n)}{\\Delta x^2} \\right )$$\n",
    "\n",
    "$$=\\frac{f(x_{n+1}) - f(x_n)}{\\Delta x} - \\left ( \\frac{f(x_{n+1}) - 2f(x_n) + f(x_{n-1})}{2\\Delta x}\\right )$$\n",
    "\n",
    "$$=\\frac{2f(x_{n+1}) - 2f(x_n) - f(x_{n+1}) + 2f(x_n) - f(x_{n-1})}{2 \\Delta x}$$\n",
    "\n",
    "$$=\\frac{f(x_{n+1}) - f(x_{n-1})}{2 \\Delta x}$$\n",
    "\n",
    "This finite-difference is second order accurate and is centered about the point it is meant to approximate ($x_n$).  We can show that it is second order by again considering the remainder term's derivative\n",
    "\n",
    "$$R_2'(x) = \\left(\\sum^{2}_{i=0} \\left( \\prod^{2}_{j=0,~j\\neq i} (x - x_j) \\right )\\right ) \\frac{f'''(c)}{3!}$$ \n",
    "\n",
    "$$= \\left ( (x - x_{n+1}) (x - x_{n-1}) + (x-x_n) (x-x_{n-1}) + (x-x_n)(x-x_{n+1}) \\right ) \\frac{f'''(c)}{3!}$$\n",
    "\n",
    "Again evaluating this expression at $x = x_n$ and assuming evenly space points we have\n",
    "\n",
    "$$R_2'(x_n) = -\\Delta x^2 \\frac{f'''(c)}{3!}$$\n",
    "\n",
    "showing that our error is $\\mathcal{O}(\\Delta x^2)$."
   ]
  },
  {
   "cell_type": "markdown",
   "metadata": {},
   "source": [
    "### Example 3: Alternative Derivations\n",
    "\n",
    "An alternative method for finding finite-difference formulas is by using Taylor series expansions about the point we want to approximate.  The Taylor series about $x_n$ is\n",
    "\n",
    "$$f(x) = f(x_n) + (x - x_n) f'(x_n) + \\frac{(x - x_n)^2}{2!} f''(x_n) + \\frac{(x - x_n)^3}{3!} f'''(x_n) + \\mathcal{O}((x - x_n)^4)$$\n",
    "\n",
    "Say we want to derive the second order accurate, first derivative approximation that just did, this requires the values $(x_{n+1}, f(x_{n+1})$ and $(x_{n-1}, f(x_{n-1})$.  We can express these values via our Taylor series approximation above as\n",
    "\n",
    "$$f(x_{n+1}) = f(x_n) + (x_{n+1} - x_n) f'(x_n) + \\frac{(x_{n+1} - x_n)^2}{2!} f''(x_n) + \\frac{(x_{n+1} - x_n)^3}{3!} f'''(x_n) + \\mathcal{O}((x_{n+1} - x_n)^4) $$\n",
    "\n",
    "$$ = f(x_n) + \\Delta x f'(x_n) + \\frac{\\Delta x^2}{2!} f''(x_n) + \\frac{\\Delta x^3}{3!} f'''(x_n) + \\mathcal{O}(\\Delta x^4) $$\n",
    "\n",
    "and\n",
    "\n",
    "$$f(x_{n-1}) = f(x_n) + (x_{n-1} - x_n) f'(x_n) + \\frac{(x_{n-1} - x_n)^2}{2!} f''(x_n) + \\frac{(x_{n-1} - x_n)^3}{3!} f'''(x_n) + \\mathcal{O}((x_{n-1} - x_n)^4) $$\n",
    "\n",
    "$$ = f(x_n) - \\Delta x f'(x_n) + \\frac{\\Delta x^2}{2!} f''(x_n) - \\frac{\\Delta x^3}{3!} f'''(x_n) + \\mathcal{O}(\\Delta x^4) $$\n",
    "\n",
    "Now to find out how to combine these into an expression for the derivative we assume our approximation looks like\n",
    "\n",
    "$$f'(x_n) + R(x_n) = A f(x_{n+1}) + B f(x_n) + C f(x_{n-1})$$\n",
    "\n",
    "where $R(x_n)$ is our error.  Plugging in the Taylor series approximations we find\n",
    "\n",
    "$$f'(x_n) + R(x_n) = A \\left ( f(x_n) + \\Delta x f'(x_n) + \\frac{\\Delta x^2}{2!} f''(x_n) + \\frac{\\Delta x^3}{3!} f'''(x_n) + \\mathcal{O}(\\Delta x^4)\\right ) + B f(x_n) + C \\left ( f(x_n) - \\Delta x f'(x_n) + \\frac{\\Delta x^2}{2!} f''(x_n) - \\frac{\\Delta x^3}{3!} f'''(x_n) + \\mathcal{O}(\\Delta x^4) \\right )$$\n",
    "\n",
    "Since we want $R(x_n) = \\mathcal{O}(\\Delta x^2)$ we want all terms lower than this to dissapear except for those multiplying $f'(x_n)$ as those should sum to 1 to give us our approximation.  Collecting the terms with common $\\Delta x^n$ we get a series of expressions for the coefficients $A$, $B$, and $C$ based on the fact we want an approximation to $f'(x_n)$.  The $n=0$ terms collected are $A + B + C$ and are set to 0 as we want the $f(x_n)$ term to dissapear\n",
    "\n",
    "\n",
    "$$\\Delta x^0: ~~~~ A + B + C = 0$$\n",
    "\n",
    "$$\\Delta x^1: ~~~~ A \\Delta x - C \\Delta x = 1 $$\n",
    "\n",
    "$$\\Delta x^2: ~~~~ A \\frac{\\Delta x^2}{2} + C \\frac{\\Delta x^2}{2} = 0 $$\n",
    "\n",
    "This last equation $\\Rightarrow A = -C$, using this in the second equation gives $A = \\frac{1}{2 \\Delta x}$ and $C = -\\frac{1}{2 \\Delta x}$.  The first equation then leads to $B = 0$.  Putting this altogether then gives us our previous expression including an estimate for the error:\n",
    "\n",
    "$$f'(x_n) + R(x_n) = \\frac{f(x_{n+1}) - f(x_{n-1})}{2 \\Delta x} + \\frac{1}{2 \\Delta x} \\frac{\\Delta x^3}{3!} f'''(x_n) + \\mathcal{O}(\\Delta x^4) + \\frac{1}{2 \\Delta x} \\frac{\\Delta x^3}{3!} f'''(x_n) + \\mathcal{O}(\\Delta x^4) $$\n",
    "\n",
    "$$R(x_n) = \\frac{\\Delta x^2}{3!} f'''(x_n) + \\mathcal{O}(\\Delta x^3) = \\mathcal{O}(\\Delta x^2)$$\n",
    "\n",
    "#### Another way...\n",
    "\n",
    "There is one more way to derive the second order accurate, first order finite-difference formula.  Consider the two first order forward and backward finite-differences averaged together:\n",
    "\n",
    "$$\\frac{D_1^+(f(x_n)) + D_1^-(f(x_n))}{2} = \\frac{f(x_{n+1}) - f(x_n) + f(x_n) - f(x_{n-1})}{2 \\Delta x} = \\frac{f(x_{n+1}) - f(x_{n-1})}{2 \\Delta x}$$\n",
    "\n",
    "That was a bit easier wasn't it?"
   ]
  },
  {
   "cell_type": "markdown",
   "metadata": {},
   "source": [
    "### Example 4: Higher Order Derivatives\n",
    "\n",
    "Using our Taylor series approach lets derive the second order accurate second derivative formula.  Again we will use the same points and the Taylor series centered at $x = x_n$ so we end up with the same expression as before:\n",
    "\n",
    "$$f''(x_n) + R(x_n) = A \\left ( f(x_n) + \\Delta x f'(x_n) + \\frac{\\Delta x^2}{2!} f''(x_n) + \\frac{\\Delta x^3}{3!} f'''(x_n) + \\frac{\\Delta x^4}{4!} f^{(4)}(x_n) + \\mathcal{O}(\\Delta x^5)\\right ) + B f(x_n) + C \\left ( f(x_n) - \\Delta x f'(x_n) + \\frac{\\Delta x^2}{2!} f''(x_n) - \\frac{\\Delta x^3}{3!} f'''(x_n) + \\frac{\\Delta x^4}{4!} f^{(4)}(x_n) + \\mathcal{O}(\\Delta x^5) \\right )$$\n",
    "\n",
    "except this time we want to leave $f''(x_n)$ on the right hand side.  Doing the same trick as before we have the following expressions:\n",
    "\n",
    "$$\\Delta x^0: ~~~~ A + B + C = 0$$\n",
    "\n",
    "$$\\Delta x^1: ~~~~ A \\Delta x - C \\Delta x = 0$$\n",
    "\n",
    "$$\\Delta x^2: ~~~~ A \\frac{\\Delta x^2}{2} + C \\frac{\\Delta x^2}{2} = 1$$\n",
    "\n",
    "The second equation implies $A = C$ which combined with the third implies\n",
    "\n",
    "$$A = C = \\frac{1}{\\Delta x^2}$$\n",
    "\n",
    "Finally the first equation gives\n",
    "\n",
    "$$B = -\\frac{2}{\\Delta x^2}$$\n",
    "\n",
    "leading to the final expression\n",
    "\n",
    "$$f''(x_n) + R(x_n) = \\frac{f(x_{n+1}) - 2 f(x_n) + f(x_{n-1})}{\\Delta x^2} + \\frac{1}{\\Delta x^2} \\left(\\frac{\\Delta x^3}{3!} f'''(x_n) + \\frac{\\Delta x^4}{4!} f^{(4)}(x_n)  - \\frac{\\Delta x^3}{3!} f'''(x_n) + \\frac{\\Delta x^4}{4!} f^{(4)}(x_n)  \\right) + \\mathcal{O}(\\Delta x^5)$$\n",
    "\n",
    "with\n",
    "\n",
    "$$R(x_n) = \\frac{\\Delta x^2}{12} f^{(4)}(x_n) + \\mathcal{O}(\\Delta x^3)$$"
   ]
  },
  {
   "cell_type": "markdown",
   "metadata": {},
   "source": [
    "# Numerical Quadrature"
   ]
  },
  {
   "cell_type": "code",
   "execution_count": null,
   "metadata": {
    "collapsed": true
   },
   "outputs": [],
   "source": []
  }
 ],
 "metadata": {
  "kernelspec": {
   "display_name": "Python 2",
   "language": "python",
   "name": "python2"
  },
  "language_info": {
   "codemirror_mode": {
    "name": "ipython",
    "version": 2
   },
   "file_extension": ".py",
   "mimetype": "text/x-python",
   "name": "python",
   "nbconvert_exporter": "python",
   "pygments_lexer": "ipython2",
   "version": "2.7.3"
  }
 },
 "nbformat": 4,
 "nbformat_minor": 0
}
