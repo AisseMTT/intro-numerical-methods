{
 "metadata": {
  "name": "",
  "signature": "sha256:7105a93e421630501c944a7bb30a0a1b35f4863ea8ed822ed13ea277c94a85fd"
 },
 "nbformat": 3,
 "nbformat_minor": 0,
 "worksheets": [
  {
   "cells": [
    {
     "cell_type": "markdown",
     "metadata": {},
     "source": [
      "# Helpful Links\n",
      " - http://www.scipy.org/topical-software.html"
     ]
    }
   ],
   "metadata": {}
  }
 ]
}